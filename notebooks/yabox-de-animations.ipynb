{
 "cells": [
  {
   "cell_type": "markdown",
   "metadata": {},
   "source": [
    "<div style=\"clear: both; width: 100%; overflow: auto\"><img src=\"img/yabox.png\" style=\"width: 250px; float: left\"/></div>\n",
    "\n",
    "> Yabox: Yet another black-box optimization library for Python - https://github.com/pablormier/yabox\n",
    "\n",
    "This notebook shows how to generate 3d animations of Differential Evolution exploring two dimensional problems\n",
    "\n",
    "Author: [Pablo Rodríguez-Mier](https://pablormier.github.io/)"
   ]
  },
  {
   "cell_type": "code",
   "execution_count": null,
   "metadata": {},
   "outputs": [],
   "source": [
    "%matplotlib inline\n",
    "\n",
    "\n",
    "# Load local version of yabox\n",
    "import sys\n",
    "sys.path.insert(0, '../')\n",
    "\n",
    "from yabox import DE, PDE\n",
    "import numpy as np\n",
    "\n",
    "# Imports required for 3d animations\n",
    "import matplotlib\n",
    "import matplotlib.pyplot as plt\n",
    "from matplotlib import cm\n",
    "from mpl_toolkits.mplot3d import Axes3D\n",
    "from matplotlib import animation, rcParams\n",
    "from IPython.display import HTML"
   ]
  },
  {
   "cell_type": "markdown",
   "metadata": {},
   "source": [
    "## Main functions for plotting and generating the animations"
   ]
  },
  {
   "cell_type": "code",
   "execution_count": null,
   "metadata": {},
   "outputs": [],
   "source": [
    "# There is a bug in matplotlib that prevents the use of ffmpeg and avconv!\n",
    "# https://github.com/matplotlib/matplotlib/pull/8743\n",
    "\n",
    "avail_writers = matplotlib.animation.writers.list()\n",
    "    \n",
    "# Functions to generate 3d animations\n",
    "\n",
    "def display_animation(anim):\n",
    "    plt.close(anim._fig)\n",
    "    return HTML(anim.to_html5_video())\n",
    "\n",
    "\n",
    "def generate_video(problem, algorithm, figsize=(12, 8), frames=100, interval=100, azim=-55, elev=22):\n",
    "    # Try to use tqdm to show progress\n",
    "    use_tqdm = True\n",
    "    try:\n",
    "        from tqdm.auto import tqdm\n",
    "    except:\n",
    "        use_tqdm = False\n",
    "    \n",
    "    figure = plt.figure(figsize=figsize)\n",
    "    ax = Axes3D(figure, azim=azim, elev=elev)\n",
    "    problem.plot3d(ax3d=ax);\n",
    "    minz = min(ax.get_zlim())\n",
    "    it = algorithm.geniterator()\n",
    "    if use_tqdm:\n",
    "        it = iter(tqdm(it, total=frames))\n",
    "\n",
    "    def animate(frame, *fargs):\n",
    "        ax.cla()\n",
    "        ax.autoscale(enable=True)\n",
    "        problem.plot3d(ax3d=ax)\n",
    "        status = next(it)\n",
    "        population = status.population\n",
    "        P = algorithm.denormalize(population)\n",
    "        print(P.shape)\n",
    "        fitness = status.fitness\n",
    "        idx = status.best_idx\n",
    "        PT = P.T\n",
    "        # Individuals\n",
    "        ax.scatter(PT[0], PT[1], fitness, s=30, c='#07b07a', marker='o', depthshade=False, zorder=999)\n",
    "        # Shadow projections\n",
    "        ax.scatter(PT[0], PT[1], np.full_like(PT[0], minz), alpha=0.3, s=50, c='black', marker='o', \n",
    "                   edgecolors='none', depthshade=False, zorder=999)\n",
    "        \n",
    "    anim = animation.FuncAnimation(figure, animate, frames=frames, interval=interval, blit=False)\n",
    "    return anim"
   ]
  },
  {
   "cell_type": "markdown",
   "metadata": {},
   "source": [
    "## Usage example"
   ]
  },
  {
   "cell_type": "code",
   "execution_count": null,
   "metadata": {},
   "outputs": [],
   "source": [
    "from yabox.problems import Ackley\n",
    "problem = Ackley(dim=2)"
   ]
  },
  {
   "cell_type": "code",
   "execution_count": null,
   "metadata": {
    "scrolled": true
   },
   "outputs": [],
   "source": [
    "algorithm = DE(problem, problem.bounds)\n",
    "anim = generate_video(problem, algorithm, figsize=(12, 6), frames=30, interval=70, azim=-55, elev=22)\n",
    "display_animation(anim)"
   ]
  },
  {
   "cell_type": "code",
   "execution_count": null,
   "metadata": {},
   "outputs": [],
   "source": [
    "from yabox.problems import *"
   ]
  },
  {
   "cell_type": "code",
   "execution_count": null,
   "metadata": {},
   "outputs": [],
   "source": [
    "problem = Levy()\n",
    "algorithm = DE(problem, problem.bounds)\n",
    "anim = generate_video(problem, algorithm, figsize=(12, 6), frames=30, interval=70, azim=-80, elev=12)\n",
    "display_animation(anim)"
   ]
  },
  {
   "cell_type": "code",
   "execution_count": null,
   "metadata": {},
   "outputs": [],
   "source": [
    "problem = Rastrigin()\n",
    "algorithm = DE(problem, problem.bounds)\n",
    "anim = generate_video(problem, algorithm, figsize=(12, 6), frames=60, interval=100, azim=-80, elev=10)\n",
    "display_animation(anim)"
   ]
  },
  {
   "cell_type": "code",
   "execution_count": null,
   "metadata": {},
   "outputs": [],
   "source": [
    "problem = Rosenbrock()\n",
    "algorithm = DE(problem, problem.bounds)\n",
    "anim = generate_video(problem, algorithm, figsize=(12, 6), frames=110, interval=100, azim=-70, elev=10)\n",
    "display_animation(anim)"
   ]
  },
  {
   "cell_type": "code",
   "execution_count": null,
   "metadata": {},
   "outputs": [],
   "source": [
    "problem = CrossInTray()\n",
    "algorithm = DE(problem, problem.bounds)\n",
    "anim = generate_video(problem, algorithm, figsize=(12, 6), frames=50, interval=100, azim=-50, elev=10)\n",
    "display_animation(anim)"
   ]
  },
  {
   "cell_type": "code",
   "execution_count": null,
   "metadata": {},
   "outputs": [],
   "source": [
    "problem = EggHolder()\n",
    "algorithm = DE(problem, problem.bounds)\n",
    "anim = generate_video(problem, algorithm, figsize=(12, 6), frames=140, interval=100, azim=-50, elev=10)\n",
    "display_animation(anim)"
   ]
  },
  {
   "cell_type": "code",
   "execution_count": null,
   "metadata": {},
   "outputs": [],
   "source": [
    "problem = HolderTable()\n",
    "algorithm = DE(problem, problem.bounds)\n",
    "anim = generate_video(problem, algorithm, figsize=(12, 6), frames=60, interval=100, azim=-70, elev=10)\n",
    "display_animation(anim)"
   ]
  },
  {
   "cell_type": "code",
   "execution_count": null,
   "metadata": {},
   "outputs": [],
   "source": [
    "problem = Easom()\n",
    "algorithm = DE(problem, problem.bounds)\n",
    "anim = generate_video(problem, algorithm, figsize=(12, 6), frames=90, interval=100, azim=-70, elev=30)\n",
    "display_animation(anim)"
   ]
  },
  {
   "cell_type": "code",
   "execution_count": null,
   "metadata": {},
   "outputs": [],
   "source": [
    "problem = StyblinskiTang()\n",
    "algorithm = DE(problem, problem.bounds)\n",
    "anim = generate_video(problem, algorithm, figsize=(12, 6), frames=90, interval=100, azim=-70, elev=30)\n",
    "display_animation(anim)"
   ]
  },
  {
   "cell_type": "code",
   "execution_count": null,
   "metadata": {},
   "outputs": [],
   "source": [
    "problem = Michalewicz()\n",
    "algorithm = DE(problem, problem.bounds)\n",
    "anim = generate_video(problem, algorithm, figsize=(12, 6), frames=90, interval=100, azim=-70, elev=20)\n",
    "display_animation(anim)"
   ]
  },
  {
   "cell_type": "code",
   "execution_count": null,
   "metadata": {},
   "outputs": [],
   "source": [
    "problem = Schwefel()\n",
    "algorithm = DE(problem, problem.bounds)\n",
    "anim = generate_video(problem, algorithm, figsize=(12, 6), frames=90, interval=100, azim=-50, elev=20)\n",
    "display_animation(anim)"
   ]
  },
  {
   "cell_type": "code",
   "execution_count": null,
   "metadata": {},
   "outputs": [],
   "source": [
    "problem = DixonPrice()\n",
    "algorithm = DE(problem, problem.bounds)\n",
    "anim = generate_video(problem, algorithm, figsize=(12, 6), frames=120, interval=100, azim=-50, elev=20)\n",
    "display_animation(anim)"
   ]
  },
  {
   "cell_type": "code",
   "execution_count": null,
   "metadata": {},
   "outputs": [],
   "source": [
    "problem = Griewank()\n",
    "algorithm = DE(problem, problem.bounds)\n",
    "anim = generate_video(problem, algorithm, figsize=(12, 6), frames=90, interval=100, azim=-50, elev=20)\n",
    "display_animation(anim)"
   ]
  },
  {
   "cell_type": "code",
   "execution_count": null,
   "metadata": {},
   "outputs": [],
   "source": []
  }
 ],
 "metadata": {
  "kernelspec": {
   "display_name": "Python 3",
   "language": "python",
   "name": "python3"
  },
  "language_info": {
   "codemirror_mode": {
    "name": "ipython",
    "version": 3
   },
   "file_extension": ".py",
   "mimetype": "text/x-python",
   "name": "python",
   "nbconvert_exporter": "python",
   "pygments_lexer": "ipython3",
   "version": "3.8.8"
  }
 },
 "nbformat": 4,
 "nbformat_minor": 2
}
